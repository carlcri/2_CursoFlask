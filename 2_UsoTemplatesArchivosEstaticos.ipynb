{
 "cells": [
  {
   "cell_type": "markdown",
   "metadata": {},
   "source": [
    "# Uso de Templates y Archivos Estaticos\n",
    "\n",
    "## Templates con Jinja 2\n",
    "\n",
    "Un template es un archivo .html que permite renderiar informacion estatica y dinamica, para este caso podriamos pasar la informacion de la ip del usuario directamente al html, en lugar de regresarla como una cadena de texto.\n",
    "\n",
    "Vamos a crear un nuevo directorio llamado templates, e importa de la clase Flask el modulo *render_template*\n",
    "\n",
    "- en la ruta hello, donde ahora en vez de retornar una cadena, retornamos el template: hello.html\n",
    "\n",
    "- tambien enviamos la user_ip, y dentro del html, coloccamos doble corchete, para indicar es una variable\n",
    "\n",
    "## Estructuras de Control\n",
    "\n",
    "Este ejercicio conciste en primero detectar la ip del usuario, si la tenemos todo igual, y si no crearemos un link a la ruta raiz que es la que guarda la ip, y despues nos rediriga a la ruta /hello.\n",
    "\n",
    "Esta estructura de control la haremos en el html:\n",
    "\n",
    "Para todos los templates, Flask pone a nuestra disposicion una variable que se llama **url_for** que nos permite encontrar la ruta especifica, con enviar el nombre de la funcion que pertenece a esta ruta. \n",
    "\n",
    "    {% if user_ip %}\n",
    "        <h1>Hello world, your IP is {{user_ip}}</h1>\n",
    "    {% else %}\n",
    "        <a href=\"{{url_for('index')}}\">Ir a inicio</a>\n",
    "    {% endif %}\n",
    "\n",
    "Como vez index es la funcion que pertenece a la ruta raiz, y la que guarda la ip del usuario.\n",
    "\n",
    "**Importante: abre tu consola de developmente en el browser**: borra la cookie para ver el funcionamiento del programa\n",
    "\n",
    "Ahora crearemos una \n",
    "\n"
   ]
  }
 ],
 "metadata": {
  "language_info": {
   "name": "python"
  },
  "orig_nbformat": 4
 },
 "nbformat": 4,
 "nbformat_minor": 2
}
