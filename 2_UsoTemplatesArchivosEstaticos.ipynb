{
 "cells": [
  {
   "cell_type": "markdown",
   "metadata": {},
   "source": [
    "# Uso de Templates y Archivos Estaticos\n",
    "\n",
    "## Templates con Jinja 2\n",
    "\n",
    "Un template es un archivo .html que permite renderiar informacion estatica y dinamica, para este caso podriamos pasar la informacion de la ip del usuario directamente al html, en lugar de regresarla como una cadena de texto.\n",
    "\n",
    "Vamos a crear un nuevo directorio llamado templates, e importa de la clase Flask el modulo *render_template*\n",
    "\n",
    "- en la ruta hello, donde ahora en vez de retornar una cadena, retornamos el template: hello.html\n",
    "\n",
    "- tambien enviamos la user_ip, y dentro del html, coloccamos doble corchete, para indicar es una variable\n",
    "\n",
    "*Flask will look for templates in the templates folder. So if your application is a module, this folder is next to that module, if it’s a package it’s actually inside your package:*\n",
    "\n",
    "## Estructuras de Control\n",
    "\n",
    "Este ejercicio conciste en primero detectar la ip del usuario, si la tenemos todo igual, y si no crearemos un link a la ruta raiz que es la que guarda la ip, y despues nos rediriga a la ruta /hello.\n",
    "\n",
    "Esta estructura de control la haremos en el html:\n",
    "\n",
    "Para todos los templates, Flask pone a nuestra disposicion una variable que se llama **url_for** que nos permite encontrar la ruta especifica, con enviar el nombre de la funcion que pertenece a esta ruta. \n",
    "\n",
    "    {% if user_ip %}\n",
    "        <h1>Hello world, your IP is {{user_ip}}</h1>\n",
    "    {% else %}\n",
    "        <a href=\"{{url_for('index')}}\">Ir a inicio</a>\n",
    "    {% endif %}\n",
    "\n",
    "Como vez index es la funcion que pertenece a la ruta raiz, y la que guarda la ip del usuario.\n",
    "\n",
    "**Importante: abre tu consola de developmente en el browser**: borra la cookie para ver el funcionamiento del programa\n",
    "\n",
    "Ahora crearemos una lista de frutas, y la pasaremos como parametro a la funcion *render template* como se ve a continuacion. Sin embargo este enfoque es poco apropiado poque los parametros que queremos renderizar van ir crecienco. Entonces que hacemos?\n"
   ]
  },
  {
   "cell_type": "code",
   "execution_count": null,
   "metadata": {},
   "outputs": [],
   "source": [
    "@app.route('/hello')\n",
    "def hello():\n",
    "    user_ip = request.cookies.get('user_ip')\n",
    "    return render_template('hello.html', user_ip=user_ip, fruits=fruits)"
   ]
  },
  {
   "cell_type": "markdown",
   "metadata": {},
   "source": [
    "Lo que normalemte se hace es crear una variable que se llame *contexto*, que va a ser el contexto del template, y mejor lo pasamos como un diccionario. \n",
    "\n",
    "Puedes ver la version en GitHub **v0.2**"
   ]
  },
  {
   "cell_type": "markdown",
   "metadata": {},
   "source": [
    "## Herencia de Templates\n",
    "\n",
    "Como incluir templates en otros templates, es muy util porque permite heredar y reutilizar codigo html. Lo primero es crear un archivo base.html el cual vamos a *extender* en todos nuestros templates. Creamos el archivo *base.html* en la carpeta templates, y guardemolo por defecto con la estructura basica que nos sugiere Visual Studio \n",
    "\n",
    "El archivo hello.html lo dejaremos solo con lo mas basico.\n",
    "\n",
    "    {% extends 'base.html'%}: sintaxis en Jinja para indicar que el template hereda o es hijo de base.html\n",
    "\n",
    "Vamos tambien a familiarizarnos con la estructura de bloques, en este caso un bloque de titulo, para la ventana que se genera, esto para el base.html:\n",
    "\n",
    "        {% block title%}\n",
    "            Su madre patria\n",
    "        {% endblock%}\n",
    "\n",
    "Y este para el hello.html\n",
    "\n",
    "    {% block title%}\n",
    "        Hello \n",
    "    {% endblock%}\n",
    "\n",
    "En este caso si corremos el servidor Flask tal y como lo hemos venido haciendo, el bloque titulo en hello.html esta sobrescribiendo, pero nosostros lo que queremos es juntarlo. Necesitamos anadir este statement(super de superclase): \n",
    "    {{super()}}\n",
    "\n",
    "### Macros\n",
    "\n",
    "Tambien vamos a aprender a usar macros, es decir pequenas piezas de codigo reutilizable. Crearemos un archivo llamado *macros.html* dentro de templates\n",
    "\n",
    "## Include y links\n",
    "\n",
    "Para este pequeno modulo, crearemos una pequena barra de navegacion que tenga dos items, una para ir a inicio, y otra para ir a platzi.com.\n",
    "\n",
    "Aprenderemos a usar el keyword *include* en nuestros templates. Crearemos dentro de templates un nuevo archivo que se va llamar *navbar.html* \n",
    "\n",
    "## Uso de archivos estaticos:imagenes\n",
    "\n",
    "Crearemos un nuevo tag de imagen en el archivo *navbar.html* \n",
    "\n",
    "<img src=\"{{ url_for('static', filename='images/marmota.png')}}\" alt=\"mi marmota\">\n",
    "\n",
    "Hasta este punto renderiza la imagen, pero es demasiado grande, tambien recuerda que cuando se esta trabajando con archivos estaticos, los cuales se quedan cacheados, por eso es mejor hacer un *hard reload*\n",
    "\n",
    "(Control) + Fn + F5 on your keyboard.\n",
    "\n",
    "Como la imagen esta demasiado grande, vamos a hacerla mas pequena mediante un archivo CSS. El directorio estara dentro del folder *static*\n",
    "\n",
    "\n",
    "- todos los tags que sean iguales a img: \n",
    "\n",
    "    img{\n",
    "        max-width: 30px;\n",
    "    }\n",
    "\n",
    "- dentro del base.html: <link rel='stylesheet' href=\"{{ url_for('static', filename='css/main.css')}}\">\n",
    "\n",
    "Tambien vamos a modificar la fuente de todo el archivo, \n"
   ]
  },
  {
   "cell_type": "markdown",
   "metadata": {},
   "source": [
    "## Paginas de error\n",
    "\n",
    "### Error 404 \n",
    "\n",
    "aprenderemos a manejar particularmente el error 404 cuando un usuario va alguna ruta sobre la cual no hay ninguna funcion.\n",
    "anadimos unas lineas de codigo en el main, para manejar el error:\n",
    "\n",
    "    @app.errorhandler(404)\n",
    "    def not_found(error):\n",
    "        return render_template('404.html', error=error)\n",
    "\n",
    "### Error 500\n",
    "\n",
    "Error del servidor: lo simulamos con una ruta (/error), y lo manejamos en el main.py. Tambien se crea un template. Algunos estudiantes recomiendad desacivar el modo debug, asi que tomo el consejo y se ejecuta de acuerdo a lo esperado.\n",
    "\n",
    "A continuacion subo el trabajo al repositorio bajo esta version\n",
    "**v0.3**"
   ]
  }
 ],
 "metadata": {
  "interpreter": {
   "hash": "3b8555b30b3714082a9a4a9d67f017cdf6b34249207c2e772da0e12453b814e9"
  },
  "kernelspec": {
   "display_name": "Python 3.8.10 64-bit ('venv': venv)",
   "language": "python",
   "name": "python3"
  },
  "language_info": {
   "name": "python",
   "version": "3.8.10"
  },
  "orig_nbformat": 4
 },
 "nbformat": 4,
 "nbformat_minor": 2
}
