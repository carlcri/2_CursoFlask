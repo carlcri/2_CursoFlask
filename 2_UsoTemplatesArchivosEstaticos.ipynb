{
 "cells": [
  {
   "cell_type": "markdown",
   "metadata": {},
   "source": [
    "# Uso de Templates y Archivos Estaticos\n",
    "\n",
    "## Templates con Jinja 2\n",
    "\n",
    "Un template es un archivo .html que permite renderiar informacion estatica y dinamica, para este caso podriamos pasar la informacion de la ip del usuario directamente al html, en lugar de regresarla como una cadena de texto.\n",
    "\n",
    "Vamos a crear un nuevo directorio llamado templates, e importa de la clase Flask el modulo *render_template*\n",
    "\n",
    "- en la ruta hello, donde ahora en vez de retornar una cadena, retornamos el template: hello.html\n",
    "\n",
    "- tambien enviamos la user_ip, y dentro del html, coloccamos doble corchete, para indicar es una variable"
   ]
  }
 ],
 "metadata": {
  "language_info": {
   "name": "python"
  },
  "orig_nbformat": 4
 },
 "nbformat": 4,
 "nbformat_minor": 2
}
