{
 "cells": [
  {
   "cell_type": "markdown",
   "metadata": {},
   "source": [
    "# Extensiones de Flask\n",
    "\n",
    "## Flask Bootstrap\n",
    "\n",
    "Las extensiones o librerias o paquetria que nos permite agregar funcionalidad a Flask. Ya hemos visto algunas herramientas que nos provee Flask, como son:\n",
    "\n",
    "- app.errorhandler\n",
    "- url_for\n",
    "\n",
    "**Framework**: es un conjunto estandarizado de conceptos, prácticas y criterios para enfocar un tipo de problemática particular que sirve como referencia, para enfrentar y resolver nuevos problemas de índole similar.\n",
    "\n",
    "Vamos a incrementar funcionalidades en Flask con *Bootstrap* que nos va permitir crear una interfaz de usuario un poco mas agradable. Bootstrap es un \"framework\" que tiene archivos htmal, css y JavaSript(JS). Bootstrap fue creado por Twitter, para generar interfazes de usuario.\n",
    "\n",
    "### Instalacion Bootstrap\n",
    "\n",
    "Ve al archivo de requirements y anade: *flask-bootstrap*, e instalalo con pip, dentro del entorno virtual.\n",
    "    pip install -r requirement.txt\n",
    "\n",
    "### inicializacion\n",
    "\n",
    "se crea una instancia de Bootstrap y se le pasa como parametro una aplicacion de Flask\n",
    "\n",
    "    app = Flask(__name__)\n",
    "    \n",
    "    bootstrap = Bootstrap(app)\n",
    "\n",
    "En el archivo base.html implementamos bootstrap, esto significa que substancialmente lo vamos a cambiar. \n",
    "\n"
   ]
  }
 ],
 "metadata": {
  "language_info": {
   "name": "python"
  },
  "orig_nbformat": 4
 },
 "nbformat": 4,
 "nbformat_minor": 2
}
