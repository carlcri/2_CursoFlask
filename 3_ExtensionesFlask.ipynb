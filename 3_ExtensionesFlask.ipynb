{
 "cells": [
  {
   "cell_type": "markdown",
   "metadata": {},
   "source": [
    "# Extensiones de Flask\n",
    "\n",
    "## Flask Bootstrap\n",
    "\n",
    "Las extensiones o librerias o paquetria que nos permite agregar funcionalidad a Flask. Ya hemos visto algunas herramientas que nos provee Flask, como son:\n",
    "\n",
    "- app.errorhandler\n",
    "- url_for\n",
    "\n",
    "**Framework**: es un conjunto estandarizado de conceptos, prácticas y criterios para enfocar un tipo de problemática particular que sirve como referencia, para enfrentar y resolver nuevos problemas de índole similar.\n",
    "\n",
    "Vamos a incrementar funcionalidades en Flask con *Bootstrap* que nos va permitir crear una interfaz de usuario un poco mas agradable. Bootstrap es un \"framework\" que tiene archivos htmal, css y JavaSript(JS). Bootstrap fue creado por Twitter, para generar interfazes de usuario.\n",
    "\n",
    "### Instalacion Bootstrap\n",
    "\n",
    "Ve al archivo de requirements y anade: *flask-bootstrap*, e instalalo con pip, dentro del entorno virtual.\n",
    "    pip install -r requirement.txt\n",
    "\n",
    "### inicializacion\n",
    "\n",
    "se crea una instancia de Bootstrap y se le pasa como parametro una aplicacion de Flask\n",
    "\n",
    "    app = Flask(__name__)\n",
    "    \n",
    "    bootstrap = Bootstrap(app)\n",
    "\n",
    "En el archivo base.html implementamos bootstrap, esto significa que substancialmente lo vamos a cambiar, porque Bootstrap tiene casi todo. Vamos al base.html\n",
    "\n",
    "{% extends 'bootstrap/base.html' %}\n",
    "\n",
    "- cambiamos el head por un block head\n",
    "- cambiamos el body por un block body\n",
    "\n",
    "Ver los comentarios en el codigo"
   ]
  },
  {
   "cell_type": "markdown",
   "metadata": {},
   "source": [
    "Ahora vamos a la pagina de Bootstrap, para traernos una barra de navegacion mas bacana. \n",
    "\n",
    "https://getbootstrap.com/docs/3.3/ \n",
    "\n",
    "Para efectos practicos la copiaremos de los archivos de la clase, y modificarmeos el template navbar.html\n",
    "\n",
    "Dejo como consulta todos los bloques que maneja Bootstrap\n",
    "\n",
    "![](./images/bloques_boot.webp)\n"
   ]
  },
  {
   "cell_type": "markdown",
   "metadata": {},
   "source": [
    "automáticamente todo lo que tenga el ambiente en ese momento se va a volcar a requirements.txt.\n",
    "\n",
    "        pip freeze > requirements.txt \n",
    "\n",
    "https://www.youtube.com/watch?v=LcZDBFder1s\n",
    "\n"
   ]
  },
  {
   "cell_type": "markdown",
   "metadata": {},
   "source": [
    "## Configuracion de Flask\n",
    "\n",
    "### Mode Development\n",
    "\n",
    "Notaras que hasta ahora cuando corremos Flask como lo hemos hecho hasta ahora, nos muestra que estamos en un Envoronment de Production, que es el valor por defecto, pero vamos a cambiar esto a Development, como?\n",
    "\n",
    "Agregaremos unas lineas de codigo al script *run_flask_server.sh*\n",
    "\n",
    "### Objeto Session\n",
    "\n",
    "Ya utilizamos el objeto *request* como puedes ver cuando lo importamos en el main.py. Dicho objeto viene de Flask y nos da informacion sobre la peticion que hico el usuario. Asi como request, Flask tambien tiene un objeto que se llama *seccion*, que se usa para guardar informacion del usuario de manera segura. \n",
    "\n",
    "Actualmente estamos guardando la IP del usuario en una cookie directamente en el Web Browser, esto no es una buena practica de seguridad porque cualquiera podria copiarla o modificarla a su antojo( tu mismo lo puedes hacer en este momento y cambiar la Ip por cualquier cosa).\n",
    "\n",
    "![](./images/modifico.PNG)\n",
    "\n"
   ]
  },
  {
   "cell_type": "markdown",
   "metadata": {},
   "source": [
    "Entonces vamos a crear una llave secreta: Una propiedad del objeto app() que es recordemos es de la clase Flask\n",
    "\n",
    "Ahora en vez de guardar directamente la ip del usuario en una cookie, la vamos a guardar en una seccion. recuerdo primero debes importarla\n",
    "\n",
    "    from flask import session\n",
    "\n",
    "Hacemos una modificaciones dentro de main.py\n",
    "\n",
    "Y si volvemos a correr el servidor de flask y abrir la pagina, nos darremos cuenta lo guarda como una session, que guarda la informacion encriptada.\n",
    "\n",
    "![](./images/session.PNG)\n",
    " \n",
    "\n",
    " Ademas se seccionn y request, Flask tambien tiene otros dos objetos de interes:\n",
    " - session: storage que permanece entre cada request\n",
    " - request: informacion sobre la peticion que realiza el browser\n",
    " - current_app: la aplicacion actual\n",
    " - g: storage temporal, se reinicia en cada request"
   ]
  },
  {
   "cell_type": "markdown",
   "metadata": {},
   "source": [
    "## Implementacion de Flask-Bootstrap  y Flask-WTF\n",
    "\n",
    "Si queremos que el usuario pueda enviar informacion a nuestra aplicacion WEB, esto se hace mediante una forma. *Flask-WTF* es una extension que ayuda a integrar WTF en Flask. Dentro del requirements.txt, anadir una entrada:\n",
    "\n",
    "    flask-wtf\n",
    "\n",
    "Y lo instalamos con pip"
   ]
  },
  {
   "cell_type": "markdown",
   "metadata": {},
   "source": [
    "lo importamos en el main.py\n",
    "\n",
    "    from flask_wtf import FlaskForm\n",
    "\n",
    "Tambien necesitamos \n",
    "\n",
    "    from wtforms.fields import PasswordField, StringField\n",
    "\n",
    "Declaramos una clase que usaremos mas adelante que extiende o hereda de FlaskForm, con dos campos, que por ahora no lo vamos a usar pero enventualmente los vamos a necesitar, lo que esta entre parentesis se conoce como etiqueta. \n",
    "\n",
    "    class LoginForm(FlaskForm):\n",
    "        username = StringField('Nombre de Usuario')\n",
    "        password = PasswordField('contrasena')\n",
    "        submit = SubmitField('Enviar')\n",
    "\n",
    "Ademas queremos agregar un *validador de datos* para que el usuario no nos envie la forma vacia. Este validador tambien lo tiene WTF.\n",
    "\n",
    "    from wtforms.validators import DataRequired\n",
    "\n",
    "    username = StringField('Nombre de Usuario', validators=DataRequired())\n",
    "    password = PasswordField('contrasena', validators=DataRequired())\n",
    "    submit = SubmitField('Enviar')\n",
    "\n",
    "Asi como hay DataRequired, hay otros validadores que deberiamos investigar\n",
    "\n",
    "\n"
   ]
  },
  {
   "cell_type": "markdown",
   "metadata": {},
   "source": [
    "Ahora vamos al template hello.html donde creamos un div de clase container, donde la clase container viene de Bootstrap. \n",
    "Creamos en el main una nueva instancia de la forma, y la enviamos en el contexto.\n",
    "\n",
    "En los siguientes commits veras una implementacion complicada, y la segunda mas sencilla\n",
    "\n",
    "    - complicada: a3689d3adbcd535e6d46bb974d2a542ffe4a44e9\n",
    "    - sencilla: \n",
    "\n",
    "\n",
    "\n"
   ]
  }
 ],
 "metadata": {
  "interpreter": {
   "hash": "a4557d3e5f10692cca5281b1e6bdd1528183f7f9131fdf6e4df26f88d450fd20"
  },
  "kernelspec": {
   "display_name": "Python 3.8.10 64-bit ('venv': venv)",
   "language": "python",
   "name": "python3"
  },
  "language_info": {
   "name": "python",
   "version": "3.8.10"
  },
  "orig_nbformat": 4
 },
 "nbformat": 4,
 "nbformat_minor": 2
}
