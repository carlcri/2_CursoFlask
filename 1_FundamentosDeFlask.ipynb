{
 "cells": [
  {
   "cell_type": "markdown",
   "metadata": {},
   "source": [
    "# Curso de Flask\n",
    "\n",
    "## \n",
    "\n",
    "Instructor Bernardo Cassina \n",
    "\n",
    "\n",
    "Conoce todo el potencial de Flask como framework web de Python, integraciones con Bootstrap, GCloud, What The Forms y más.\n",
    "\n",
    "Flask es sencillo de aprender, tiene una documentación clara y práctica, es rápido a la hora de renderizar **puede ser hasta tres veces más rapido que Django**. También es fácil de realizar una API REST, la estructura de un proyecto es flexible y es ideal para aprender desarrollo web con un framework de Python.\n",
    "\n",
    "## Proyecto del curso\n",
    "\n",
    "*Platzi Tareas*\n",
    "\n",
    "Crearás una app tipo lista de tareas (To Do List) que te permitirá crear, editar y borrar tareas. En este proyecto conocerás como se puede desarrollar una aplicación desde cero con Flask usando las extensiones: WTF, Bootstrap, Blueprints y Google Cloud Platform\n",
    "\n",
    "## Como funcionan las aplicaciones en Internet\n",
    "\n",
    "*Una aplicacion Web es un programa que a traves de un Browser y tecnologias Web se comunica con un servidos, el servidor realiza el procesamiento de la peticion que realiza el Browser, y devuelve la infomrmacion necesaria al cliente*\n",
    "\n",
    "Cuando utilizas una aplicación web puedes interactuar con ella desde una computadora hasta un dispositivo móvil, pero esto no quiere decir que consume el procesamiento de tu dispositivo. Todo lo contrario, se hace en una red de servidores.\n",
    "\n",
    "Estos servidores unen su poder de procesamiento con el fin transmitir solicitudes a todo el mundo, a su vez utilizar servidores especializados para almacenar los datos con los cuales se está trabajando, así como los datos de los demás usuarios. Como todo esto sucede sin demora alguna, parecerá que la aplicación se está ejecutando de forma nativa en tu dispositivo.\n",
    "\n",
    "El servidor procesa la información obtenida por el navegador, luego se realizan los procedimientos necesarios de acuerdo a la lógica de negocio de la aplicación para regresar la información solicitada al cliente.\n",
    "\n",
    "**Ejemplo:**\n",
    "\n",
    "Cuando utilizamos Google Drive el cual es una aplicación web y abrimos un documento con Google Docs, el navegador se comunica con los servidores para ver y editar el documento.\n",
    "\n",
    "A medida que vayas editando el documento, tu navegador trabajará de la mano con los servidores para asegurarse que todos los cambios se estén guardando.\n",
    "\n",
    "**Ventajas**:\n",
    "\n",
    "1. Muchas de las aplicaciones web que existen son gratuitas.\n",
    "2. Puedes acceder a tu información en cualquier momento y lugar.\n",
    "3. No dependes de un dispositivo en específico ya que la aplicación se encuentra almacenada en la web."
   ]
  },
  {
   "cell_type": "markdown",
   "metadata": {},
   "source": [
    "## Que es FLASK\n",
    "\n",
    "es un *Microframework*, es decir que busca que su infraestructura inicial sea lo mas simple posible, y que pueda personalizarse facilmente. Flask no depende de un sistema de autenticacion de BD especifico. Conforme crece la aplicacion, se van agregando los requerimientos especificos. Y poco a poco anadir funcionalidades con librerias de Flask, qeu se conocen como *Flask Extensions*.\n",
    "\n",
    "## Instalacion en Linux\n",
    "\n",
    "Vamos a empezar a hacer uso de las buenas practicas en programacion, como son\n",
    "\n",
    "- un archivo de **requirements.txt** para instalar automaticamente las dependencias\n",
    "- un archivo **.gitignore** para que ignore lo que haya la carpeta del ambiente virtual(obviamene el ambiente virtual solo servira en esta computadora)    \n",
    "-- un ambiente virtual donde por defecto instalaremos una version de Python3 especifica\n",
    "\n",
    "## Hello World \n",
    "\n",
    "Estos son los conceptos principales que debes entender antes de hacer un Hello World en Flask:\n",
    "\n",
    "-   virtualenv: es una herramienta para crear entornos aislados de Python.\n",
    "\n",
    "-   pip: es el instalador de paquetes para Python.\n",
    "\n",
    "-   **requirements.txt**: es el archivo en donde se colocará todas las dependencias a instalar en nuestra aplicación. PIP leera este archivo\n",
    "\n",
    "-   FLASK_APP: es la variable para identificar el archivo donde se encuentra la aplicación.\n",
    "\n",
    "Lo primero es instalar un ambiente virtual con la version de python especifica para este curso(pero no funciona):\n",
    "\n",
    "        virtualenv venv --python=python3.7\n",
    "\n",
    "Con pip freeze podemos ver las dependencias instalada en el ambiente virtual. Dentro del archivo **requirements.txt** anadimos una linea para *flask*. Y a continucacion instalamos lo que este dentro del archivo:\n",
    "\n",
    "        sudo pip install -r requirements.txt\n",
    "        pip freeze (no funciona en mi entorno)\n"
   ]
  },
  {
   "cell_type": "markdown",
   "metadata": {},
   "source": [
    "Creamos un main.py, y tenemos que declarar una nueva variable de ambiente, cuyo valor va a ser igual, el archivo donde se encuentra la instancia de FLASK, en este caso main.py\n",
    "\n",
    "    FLASK_APP=main.py\n",
    "    echo FLASK_APP(para verificar existe la variable)\n",
    "\n",
    "Flask necesita saber en dónde se encuentra el módulo de FLASK_APP por lo que es necesario definir la variable de entorno.\n",
    "Intenta:\n",
    "\n",
    "    export FLASK_APP=main.py(sin esto no funciona)\n",
    "    flask run\n",
    "\n",
    "Si abres la ventana del navegador en http://127.0.0.1:5000/ debes ver el mensaje de bienvenvida"
   ]
  },
  {
   "cell_type": "markdown",
   "metadata": {},
   "source": [
    "## Debugging in Flask\n",
    "\n",
    "Es una buena practica cuando se esta desarrollando la aplicacion(export FLASK_DEBUG=1):\n",
    "\n",
    "    FLASK_APP=main.py\n",
    "    export FLASK_APP=main.py\n",
    "    export FLASK_DEBUG=1\n",
    "    flask run\n",
    "\n",
    "las indicaciones hasta ahora vistas parecen un poco confusas, por eso a sugerencia de otro estudiante, decidi automatizar el proceso con un archivo tipo bash en Linux. El archivo se llama **run_flask_server.sh** y se corre asi:\n",
    "\n",
    "    source run_flask_server.sh\n",
    "\n",
    "TIene las siguientes lineas de codigo para arrancar el servidor Flask en modo debug:\n",
    "\n",
    "    source venv/bin/activate\n",
    "    export FLASK_APP=main.py\n",
    "    export FLASK_DEBUG=1\n",
    "    flask run\n"
   ]
  },
  {
   "cell_type": "markdown",
   "metadata": {},
   "source": [
    "## Request and Response\n",
    "\n",
    "Vamos a entender el ciclo de Request and Response. Flask provee de varios tipos de contextos o varios tipos de variables en las cuales podemos obtener *contexto de la aplicacion*, el primero que vamos a ver es **request**(recuerda importarlo). Dentro de este objeto de request, hay varias variables que tienen ciertos valores. El que vamos usar en este momento es la *ip del usuario*. \n",
    "\n",
    "Se importan los modulos *make_response, redirect* como se ve el statement import\n",
    "Una vez se corre Flask, y se va a la direccion local, vemos que abre la ventana del navegador (/) ruta rais, e inmediatamente nos redirige a la ruta (/hello).\n",
    "\n",
    "Desde la consola vemos esto:\n",
    "\n",
    "![](./images/flask1.PNG)\n",
    "\n",
    "\n",
    "\n",
    "\n"
   ]
  },
  {
   "cell_type": "markdown",
   "metadata": {},
   "source": [
    "Primero se hizo un *GET* a la ruta raiz(/) la cual devolvio un codigo 302, que es el codigo de redireccion. Y despues nos lleva a la otra ruta (/hello) donde regreso un codigo 200. \n",
    "\n",
    "Si miras las cookies en tu Browser desde las herramientas de desarrollador, veras esta cookie.\n",
    "\n",
    "Ve en el repositorio GitHub en **v0.1** la version final hasta este punto"
   ]
  }
 ],
 "metadata": {
  "interpreter": {
   "hash": "3b8555b30b3714082a9a4a9d67f017cdf6b34249207c2e772da0e12453b814e9"
  },
  "kernelspec": {
   "display_name": "Python 3.8.10 64-bit ('venv': venv)",
   "language": "python",
   "name": "python3"
  },
  "language_info": {
   "name": "python",
   "version": "3.8.10"
  },
  "orig_nbformat": 4
 },
 "nbformat": 4,
 "nbformat_minor": 2
}
